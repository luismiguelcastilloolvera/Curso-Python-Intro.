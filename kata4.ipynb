{
 "cells": [
  {
   "cell_type": "code",
   "execution_count": 1,
   "metadata": {},
   "outputs": [],
   "source": [
    "\n",
    "first_planet = 149597870\n",
    "second_planet = 778547200"
   ]
  },
  {
   "cell_type": "code",
   "execution_count": 2,
   "metadata": {},
   "outputs": [
    {
     "name": "stdout",
     "output_type": "stream",
     "text": [
      "628949330\n",
      "390577533.93\n"
     ]
    }
   ],
   "source": [
    "distance_km = second_planet - first_planet\n",
    "print(distance_km)\n",
    "\n",
    "distance_mi = distance_km * 0.621\n",
    "print(distance_mi)"
   ]
  },
  {
   "cell_type": "code",
   "execution_count": 3,
   "metadata": {},
   "outputs": [],
   "source": [
    "first_planet = input('Introduzca la distancia del sol para el primer planeta en KM')\n",
    "second_planet = input('Introduzca la distancia desde el sol para el segundo planeta en KM')"
   ]
  },
  {
   "cell_type": "code",
   "execution_count": 5,
   "metadata": {},
   "outputs": [],
   "source": [
    "first_planet = int(first_planet)\n",
    "second_planet = int(second_planet)"
   ]
  },
  {
   "cell_type": "code",
   "execution_count": 6,
   "metadata": {},
   "outputs": [
    {
     "name": "stdout",
     "output_type": "stream",
     "text": [
      "8\n",
      "4.968\n"
     ]
    }
   ],
   "source": [
    "distance_km = second_planet - first_planet\n",
    "print(distance_km)\n",
    "\n",
    "# Convertir de KM a Millas\n",
    "distance_mi = distance_km * 0.621\n",
    "print(abs(distance_mi))\n"
   ]
  }
 ],
 "metadata": {
  "interpreter": {
   "hash": "b2719a8efa337423851b32c52a7c97ba2e112818fd892657cce907ae5187e5fc"
  },
  "kernelspec": {
   "display_name": "Python 3.10.2 64-bit",
   "language": "python",
   "name": "python3"
  },
  "language_info": {
   "codemirror_mode": {
    "name": "ipython",
    "version": 3
   },
   "file_extension": ".py",
   "mimetype": "text/x-python",
   "name": "python",
   "nbconvert_exporter": "python",
   "pygments_lexer": "ipython3",
   "version": "3.10.2"
  },
  "orig_nbformat": 4
 },
 "nbformat": 4,
 "nbformat_minor": 2
}
